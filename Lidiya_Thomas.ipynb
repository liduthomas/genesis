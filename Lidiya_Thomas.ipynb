{
  "nbformat": 4,
  "nbformat_minor": 0,
  "metadata": {
    "colab": {
      "name": "Lidiya_Thomas.ipynb",
      "provenance": [],
      "collapsed_sections": [],
      "include_colab_link": true
    },
    "kernelspec": {
      "name": "python3",
      "display_name": "Python 3"
    }
  },
  "cells": [
    {
      "cell_type": "markdown",
      "metadata": {
        "id": "view-in-github",
        "colab_type": "text"
      },
      "source": [
        "<a href=\"https://colab.research.google.com/github/liduthomas/genesis/blob/master/Lidiya_Thomas.ipynb\" target=\"_parent\"><img src=\"https://colab.research.google.com/assets/colab-badge.svg\" alt=\"Open In Colab\"/></a>"
      ]
    },
    {
      "cell_type": "markdown",
      "metadata": {
        "id": "GCwmtUB-8aTM"
      },
      "source": [
        "imported python lib."
      ]
    },
    {
      "cell_type": "markdown",
      "metadata": {
        "id": "PP6O7K0AJ1jk"
      },
      "source": [
        ""
      ]
    },
    {
      "cell_type": "code",
      "metadata": {
        "id": "HluHZvCNMm2J"
      },
      "source": [
        "import pandas as pd\n",
        "import numpy as np"
      ],
      "execution_count": null,
      "outputs": []
    },
    {
      "cell_type": "markdown",
      "metadata": {
        "id": "Yq4wsbTTBDpp"
      },
      "source": [
        "in the next step, I have imported the iris dataset and the load_iris function will give a bunch of iris data set which we are storing inside iris_dataset."
      ]
    },
    {
      "cell_type": "code",
      "metadata": {
        "id": "LZEEg0n_M6rX"
      },
      "source": [
        "from sklearn.datasets import load_iris\n",
        "iris_dataset=load_iris()\n",
        "\n"
      ],
      "execution_count": null,
      "outputs": []
    },
    {
      "cell_type": "markdown",
      "metadata": {
        "id": "TZ1mR3yPBbvk"
      },
      "source": [
        "Here we are printing keys of iris_dataset"
      ]
    },
    {
      "cell_type": "code",
      "metadata": {
        "colab": {
          "base_uri": "https://localhost:8080/"
        },
        "id": "yJWycG_Q2uNV",
        "outputId": "9b772412-e19e-480e-bb46-7490f3fdff03"
      },
      "source": [
        "print('keys of iris_dataset:\\n{}'.format(iris_dataset.keys()))\n"
      ],
      "execution_count": null,
      "outputs": [
        {
          "output_type": "stream",
          "text": [
            "keys of iris_dataset:\n",
            "dict_keys(['data', 'target', 'target_names', 'DESCR', 'feature_names', 'filename'])\n"
          ],
          "name": "stdout"
        }
      ]
    },
    {
      "cell_type": "markdown",
      "metadata": {
        "id": "bEOm5eegB18R"
      },
      "source": [
        "Here we are  printing description of iris_dataset"
      ]
    },
    {
      "cell_type": "code",
      "metadata": {
        "colab": {
          "base_uri": "https://localhost:8080/"
        },
        "id": "chqyvcXm3BLY",
        "outputId": "f42d86ad-551b-4097-c033-99cb1df83410"
      },
      "source": [
        "print(iris_dataset['DESCR'][:193]+\"\\n...\")"
      ],
      "execution_count": null,
      "outputs": [
        {
          "output_type": "stream",
          "text": [
            ".. _iris_dataset:\n",
            "\n",
            "Iris plants dataset\n",
            "--------------------\n",
            "\n",
            "**Data Set Characteristics:**\n",
            "\n",
            "    :Number of Instances: 150 (50 in each of three classes)\n",
            "    :Number of Attributes: 4 numeric, pre\n",
            "...\n"
          ],
          "name": "stdout"
        }
      ]
    },
    {
      "cell_type": "markdown",
      "metadata": {
        "id": "mSJT902tB9dT"
      },
      "source": [
        "Here we are printing target_names of iris_dataset"
      ]
    },
    {
      "cell_type": "code",
      "metadata": {
        "colab": {
          "base_uri": "https://localhost:8080/"
        },
        "id": "xmU9LtWC3kH_",
        "outputId": "2b1b9e3e-09bf-418e-9c3c-c37175551d3b"
      },
      "source": [
        "print('Target name:\\n {}'.format(iris_dataset['target_names']))"
      ],
      "execution_count": null,
      "outputs": [
        {
          "output_type": "stream",
          "text": [
            "Target name:\n",
            " ['setosa' 'versicolor' 'virginica']\n"
          ],
          "name": "stdout"
        }
      ]
    },
    {
      "cell_type": "markdown",
      "metadata": {
        "id": "81gbrKaFCBRZ"
      },
      "source": [
        "Here we are printing feature_names of iris_dataset"
      ]
    },
    {
      "cell_type": "code",
      "metadata": {
        "colab": {
          "base_uri": "https://localhost:8080/"
        },
        "id": "gQtOIFsN4HBm",
        "outputId": "9ad5fde6-d15b-41d7-d8bb-9174ffd95fba"
      },
      "source": [
        "print('Feature name:\\n {}'.format(iris_dataset['feature_names']))"
      ],
      "execution_count": null,
      "outputs": [
        {
          "output_type": "stream",
          "text": [
            "Feature name:\n",
            " ['sepal length (cm)', 'sepal width (cm)', 'petal length (cm)', 'petal width (cm)']\n"
          ],
          "name": "stdout"
        }
      ]
    },
    {
      "cell_type": "markdown",
      "metadata": {
        "id": "MzrhB4sBCFoz"
      },
      "source": [
        "Here we are printing type of iris_dataset['data']"
      ]
    },
    {
      "cell_type": "code",
      "metadata": {
        "colab": {
          "base_uri": "https://localhost:8080/"
        },
        "id": "L___N7nf4eXC",
        "outputId": "73f3fa51-63c5-45b5-cc10-2201f05524d2"
      },
      "source": [
        "print('Type of data\\n {}'.format(type(iris_dataset['data'])))"
      ],
      "execution_count": null,
      "outputs": [
        {
          "output_type": "stream",
          "text": [
            "Type of data\n",
            " <class 'numpy.ndarray'>\n"
          ],
          "name": "stdout"
        }
      ]
    },
    {
      "cell_type": "markdown",
      "metadata": {
        "id": "Wqrlyp0aCYV3"
      },
      "source": [
        "The shape of an array is the number of elements in each dimension.\n",
        "Here we are printing the shape of iris_dataset['data']"
      ]
    },
    {
      "cell_type": "code",
      "metadata": {
        "colab": {
          "base_uri": "https://localhost:8080/"
        },
        "id": "UU4QKx0M4von",
        "outputId": "09866374-35f9-455a-e5c1-4435e2ded4aa"
      },
      "source": [
        "print('shape of data:{}'.format(iris_dataset['data'].shape))"
      ],
      "execution_count": null,
      "outputs": [
        {
          "output_type": "stream",
          "text": [
            "shape of data:(150, 4)\n"
          ],
          "name": "stdout"
        }
      ]
    },
    {
      "cell_type": "markdown",
      "metadata": {
        "id": "t6uonuqhCiAb"
      },
      "source": [
        "To print the  first five rows of iris_dataset"
      ]
    },
    {
      "cell_type": "code",
      "metadata": {
        "colab": {
          "base_uri": "https://localhost:8080/"
        },
        "id": "0WZMUueX5SBF",
        "outputId": "585bc25f-d005-41f1-b7c5-d10bb20afc17"
      },
      "source": [
        "print('First Five rows of data:\\n {}',format(iris_dataset['data'][:5]))"
      ],
      "execution_count": null,
      "outputs": [
        {
          "output_type": "stream",
          "text": [
            "First Five rows of data:\n",
            " {} [[5.1 3.5 1.4 0.2]\n",
            " [4.9 3.  1.4 0.2]\n",
            " [4.7 3.2 1.3 0.2]\n",
            " [4.6 3.1 1.5 0.2]\n",
            " [5.  3.6 1.4 0.2]]\n"
          ],
          "name": "stdout"
        }
      ]
    },
    {
      "cell_type": "markdown",
      "metadata": {
        "id": "39U7hcDZCwZI"
      },
      "source": [
        "Here we are printing type of iris_dataset['target']"
      ]
    },
    {
      "cell_type": "code",
      "metadata": {
        "colab": {
          "base_uri": "https://localhost:8080/"
        },
        "id": "WhkEbls56OSi",
        "outputId": "37235312-1d71-43c4-b27c-ed693b605247"
      },
      "source": [
        "print('type of Target:\\n {}'.format(type(iris_dataset['target'])))"
      ],
      "execution_count": null,
      "outputs": [
        {
          "output_type": "stream",
          "text": [
            "type of Target:\n",
            " <class 'numpy.ndarray'>\n"
          ],
          "name": "stdout"
        }
      ]
    },
    {
      "cell_type": "markdown",
      "metadata": {
        "id": "YP09WRS2C2Xa"
      },
      "source": [
        "Here we are printing shape of iris_dataset['target']"
      ]
    },
    {
      "cell_type": "code",
      "metadata": {
        "colab": {
          "base_uri": "https://localhost:8080/"
        },
        "id": "3cCOr0K06hxr",
        "outputId": "e5826be1-7277-4f1b-e6c5-d3a700e18a86"
      },
      "source": [
        "print('shape of Target:\\n {}'.format(iris_dataset['target'].shape))"
      ],
      "execution_count": null,
      "outputs": [
        {
          "output_type": "stream",
          "text": [
            "shape of Target:\n",
            " (150,)\n"
          ],
          "name": "stdout"
        }
      ]
    },
    {
      "cell_type": "markdown",
      "metadata": {
        "id": "YFAOYCtkC51l"
      },
      "source": [
        "To print iris_dataset['target']"
      ]
    },
    {
      "cell_type": "code",
      "metadata": {
        "colab": {
          "base_uri": "https://localhost:8080/"
        },
        "id": "kvmkETB360bc",
        "outputId": "a3d076a3-4e77-43a1-88f1-95f97b7a9fc7"
      },
      "source": [
        "print('Target:\\n {}'.format(iris_dataset['target']))"
      ],
      "execution_count": null,
      "outputs": [
        {
          "output_type": "stream",
          "text": [
            "Target:\n",
            " [0 0 0 0 0 0 0 0 0 0 0 0 0 0 0 0 0 0 0 0 0 0 0 0 0 0 0 0 0 0 0 0 0 0 0 0 0\n",
            " 0 0 0 0 0 0 0 0 0 0 0 0 0 1 1 1 1 1 1 1 1 1 1 1 1 1 1 1 1 1 1 1 1 1 1 1 1\n",
            " 1 1 1 1 1 1 1 1 1 1 1 1 1 1 1 1 1 1 1 1 1 1 1 1 1 1 2 2 2 2 2 2 2 2 2 2 2\n",
            " 2 2 2 2 2 2 2 2 2 2 2 2 2 2 2 2 2 2 2 2 2 2 2 2 2 2 2 2 2 2 2 2 2 2 2 2 2\n",
            " 2 2]\n"
          ],
          "name": "stdout"
        }
      ]
    },
    {
      "cell_type": "markdown",
      "metadata": {
        "id": "py6jclNWDIoK"
      },
      "source": [
        "train_test_split will Split arrays or matrices into the random train and test subsets."
      ]
    },
    {
      "cell_type": "code",
      "metadata": {
        "id": "EQmQsvja8opi"
      },
      "source": [
        "from sklearn.model_selection import train_test_split\n",
        "X_train,X_test,y_train,y_test=train_test_split(iris_dataset['data'],iris_dataset['target'],random_state=0)"
      ],
      "execution_count": null,
      "outputs": []
    },
    {
      "cell_type": "markdown",
      "metadata": {
        "id": "_XR8IjKqDlPh"
      },
      "source": [
        "Printing shape of X_tain,y_train,X_test,X_test.\n"
      ]
    },
    {
      "cell_type": "code",
      "metadata": {
        "colab": {
          "base_uri": "https://localhost:8080/"
        },
        "id": "Rhi0pxFcCOcG",
        "outputId": "f08df337-7629-412b-e708-3adc6aa0bdbf"
      },
      "source": [
        "print('X_train of data:{}'.format(X_train.shape))\n",
        "print('y_train of data:{}'.format(y_train.shape))\n",
        "print('X_test of data:{}'.format(X_test.shape))\n",
        "print('y_test of data:{}'.format(y_test.shape))"
      ],
      "execution_count": null,
      "outputs": [
        {
          "output_type": "stream",
          "text": [
            "X_train of data:(112, 4)\n",
            "y_train of data:(112,)\n",
            "X_test of data:(38, 4)\n",
            "y_test of data:(38,)\n"
          ],
          "name": "stdout"
        }
      ]
    },
    {
      "cell_type": "markdown",
      "metadata": {
        "id": "h3GPnNEnD3q6"
      },
      "source": [
        "The K in the name of this classifier represents the k nearest neighbors, where k is an integer value specified by the user."
      ]
    },
    {
      "cell_type": "code",
      "metadata": {
        "id": "RDW68lawJ12f"
      },
      "source": [
        "from sklearn.neighbors import KNeighborsClassifier\n",
        "knn=KNeighborsClassifier(n_neighbors=1)"
      ],
      "execution_count": null,
      "outputs": []
    },
    {
      "cell_type": "markdown",
      "metadata": {
        "id": "GMKI39DxEPGM"
      },
      "source": [
        "fit an estimator to be able to predict the classes to which the unseen samples belong."
      ]
    },
    {
      "cell_type": "code",
      "metadata": {
        "colab": {
          "base_uri": "https://localhost:8080/"
        },
        "id": "cnvd7XGVKYd8",
        "outputId": "aed8e97d-5a55-4f52-8a95-e9b62eaa411c"
      },
      "source": [
        "knn.fit(X_train,y_train)\n"
      ],
      "execution_count": null,
      "outputs": [
        {
          "output_type": "execute_result",
          "data": {
            "text/plain": [
              "KNeighborsClassifier(algorithm='auto', leaf_size=30, metric='minkowski',\n",
              "                     metric_params=None, n_jobs=None, n_neighbors=1, p=2,\n",
              "                     weights='uniform')"
            ]
          },
          "metadata": {
            "tags": []
          },
          "execution_count": 17
        }
      ]
    },
    {
      "cell_type": "markdown",
      "metadata": {
        "id": "m_k-J1KzERU3"
      },
      "source": [
        "printing shape of X_new"
      ]
    },
    {
      "cell_type": "code",
      "metadata": {
        "colab": {
          "base_uri": "https://localhost:8080/"
        },
        "id": "fXhOnWgLMH5d",
        "outputId": "d0e58f22-3bb5-4fed-9855-82ef232ba80b"
      },
      "source": [
        "X_new=np.array([[5,2.9,1,0.2]])\n",
        "print('X_new.shape {}'.format(X_new.shape))"
      ],
      "execution_count": null,
      "outputs": [
        {
          "output_type": "stream",
          "text": [
            "X_new.shape (1, 4)\n"
          ],
          "name": "stdout"
        }
      ]
    },
    {
      "cell_type": "markdown",
      "metadata": {
        "id": "qnKvY06IEhPf"
      },
      "source": [
        "Making predictions with X_new"
      ]
    },
    {
      "cell_type": "code",
      "metadata": {
        "colab": {
          "base_uri": "https://localhost:8080/"
        },
        "id": "QUj50RxEMmaY",
        "outputId": "016e8dae-4514-45e7-d0a2-7c05b5dd0b99"
      },
      "source": [
        "prediction=knn.predict(X_new)\n",
        "print('Prediction: {} '.format(prediction))\n",
        "print('Predicted target name: {} '.format(iris_dataset['target_names'][prediction]))"
      ],
      "execution_count": null,
      "outputs": [
        {
          "output_type": "stream",
          "text": [
            "Prediction: [0] \n",
            "Predicted target name: ['setosa'] \n"
          ],
          "name": "stdout"
        }
      ]
    },
    {
      "cell_type": "markdown",
      "metadata": {
        "id": "0nQG0VFsEz1E"
      },
      "source": [
        "Making predictions with X_test"
      ]
    },
    {
      "cell_type": "code",
      "metadata": {
        "colab": {
          "base_uri": "https://localhost:8080/"
        },
        "id": "bRwdEfpFNVrl",
        "outputId": "f1bd8047-2956-49f5-f4ea-6df645d90a5b"
      },
      "source": [
        "y_pred=knn.predict(X_test)\n",
        "print('Test set Prediction: {} '.format(y_pred))"
      ],
      "execution_count": null,
      "outputs": [
        {
          "output_type": "stream",
          "text": [
            "Test set Prediction: [2 1 0 2 0 2 0 1 1 1 2 1 1 1 1 0 1 1 0 0 2 1 0 0 2 0 0 1 1 0 2 1 0 2 2 1 0\n",
            " 2] \n"
          ],
          "name": "stdout"
        }
      ]
    },
    {
      "cell_type": "markdown",
      "metadata": {
        "id": "cOjBfpBpEtPi"
      },
      "source": [
        "Calculating mean value of predictions."
      ]
    },
    {
      "cell_type": "code",
      "metadata": {
        "colab": {
          "base_uri": "https://localhost:8080/"
        },
        "id": "sExoe1UdNure",
        "outputId": "88ada8fc-194d-41de-d706-ea213c702b9a"
      },
      "source": [
        "print('Test Set Score: {} '.format(np.mean(y_pred==y_test)))"
      ],
      "execution_count": null,
      "outputs": [
        {
          "output_type": "stream",
          "text": [
            "Test Set Score: 0.9736842105263158 \n"
          ],
          "name": "stdout"
        }
      ]
    }
  ]
}